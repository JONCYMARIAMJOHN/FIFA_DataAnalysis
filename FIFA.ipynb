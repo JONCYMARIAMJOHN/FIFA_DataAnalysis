{
 "cells": [
  {
   "cell_type": "code",
   "execution_count": 52,
   "id": "62b67af1-81df-4a22-9923-de5de53395ca",
   "metadata": {},
   "outputs": [],
   "source": [
    "import pandas as pd\n",
    "import numpy as np\n",
    "import matplotlib.pyplot as plt"
   ]
  },
  {
   "cell_type": "code",
   "execution_count": 8,
   "id": "9772ce6e-ccd4-46cb-9e52-77e86f3f0e05",
   "metadata": {},
   "outputs": [],
   "source": [
    "df = pd.read_csv(\"D:/Python/fifa_data.csv\")"
   ]
  },
  {
   "cell_type": "code",
   "execution_count": 94,
   "id": "b4ce5fe4-e180-458b-a609-552e4bd2821d",
   "metadata": {},
   "outputs": [
    {
     "data": {
      "text/plain": [
       "(18207, 89)"
      ]
     },
     "execution_count": 94,
     "metadata": {},
     "output_type": "execute_result"
    }
   ],
   "source": [
    "df.shape"
   ]
  },
  {
   "cell_type": "code",
   "execution_count": 9,
   "id": "c707df88-635e-4d1a-b646-7f89f8ff4307",
   "metadata": {},
   "outputs": [
    {
     "name": "stdout",
     "output_type": "stream",
     "text": [
      "<class 'pandas.core.frame.DataFrame'>\n",
      "RangeIndex: 18207 entries, 0 to 18206\n",
      "Data columns (total 89 columns):\n",
      " #   Column                    Non-Null Count  Dtype  \n",
      "---  ------                    --------------  -----  \n",
      " 0   Unnamed: 0                18207 non-null  int64  \n",
      " 1   ID                        18207 non-null  int64  \n",
      " 2   Name                      18207 non-null  object \n",
      " 3   Age                       18207 non-null  int64  \n",
      " 4   Photo                     18207 non-null  object \n",
      " 5   Nationality               18207 non-null  object \n",
      " 6   Flag                      18207 non-null  object \n",
      " 7   Overall                   18207 non-null  int64  \n",
      " 8   Potential                 18207 non-null  int64  \n",
      " 9   Club                      17966 non-null  object \n",
      " 10  Club Logo                 18207 non-null  object \n",
      " 11  Value                     18207 non-null  object \n",
      " 12  Wage                      18207 non-null  object \n",
      " 13  Special                   18207 non-null  int64  \n",
      " 14  Preferred Foot            18159 non-null  object \n",
      " 15  International Reputation  18159 non-null  float64\n",
      " 16  Weak Foot                 18159 non-null  float64\n",
      " 17  Skill Moves               18159 non-null  float64\n",
      " 18  Work Rate                 18159 non-null  object \n",
      " 19  Body Type                 18159 non-null  object \n",
      " 20  Real Face                 18159 non-null  object \n",
      " 21  Position                  18147 non-null  object \n",
      " 22  Jersey Number             18147 non-null  float64\n",
      " 23  Joined                    16654 non-null  object \n",
      " 24  Loaned From               1264 non-null   object \n",
      " 25  Contract Valid Until      17918 non-null  object \n",
      " 26  Height                    18159 non-null  object \n",
      " 27  Weight                    18159 non-null  object \n",
      " 28  LS                        16122 non-null  object \n",
      " 29  ST                        16122 non-null  object \n",
      " 30  RS                        16122 non-null  object \n",
      " 31  LW                        16122 non-null  object \n",
      " 32  LF                        16122 non-null  object \n",
      " 33  CF                        16122 non-null  object \n",
      " 34  RF                        16122 non-null  object \n",
      " 35  RW                        16122 non-null  object \n",
      " 36  LAM                       16122 non-null  object \n",
      " 37  CAM                       16122 non-null  object \n",
      " 38  RAM                       16122 non-null  object \n",
      " 39  LM                        16122 non-null  object \n",
      " 40  LCM                       16122 non-null  object \n",
      " 41  CM                        16122 non-null  object \n",
      " 42  RCM                       16122 non-null  object \n",
      " 43  RM                        16122 non-null  object \n",
      " 44  LWB                       16122 non-null  object \n",
      " 45  LDM                       16122 non-null  object \n",
      " 46  CDM                       16122 non-null  object \n",
      " 47  RDM                       16122 non-null  object \n",
      " 48  RWB                       16122 non-null  object \n",
      " 49  LB                        16122 non-null  object \n",
      " 50  LCB                       16122 non-null  object \n",
      " 51  CB                        16122 non-null  object \n",
      " 52  RCB                       16122 non-null  object \n",
      " 53  RB                        16122 non-null  object \n",
      " 54  Crossing                  18159 non-null  float64\n",
      " 55  Finishing                 18159 non-null  float64\n",
      " 56  HeadingAccuracy           18159 non-null  float64\n",
      " 57  ShortPassing              18159 non-null  float64\n",
      " 58  Volleys                   18159 non-null  float64\n",
      " 59  Dribbling                 18159 non-null  float64\n",
      " 60  Curve                     18159 non-null  float64\n",
      " 61  FKAccuracy                18159 non-null  float64\n",
      " 62  LongPassing               18159 non-null  float64\n",
      " 63  BallControl               18159 non-null  float64\n",
      " 64  Acceleration              18159 non-null  float64\n",
      " 65  SprintSpeed               18159 non-null  float64\n",
      " 66  Agility                   18159 non-null  float64\n",
      " 67  Reactions                 18159 non-null  float64\n",
      " 68  Balance                   18159 non-null  float64\n",
      " 69  ShotPower                 18159 non-null  float64\n",
      " 70  Jumping                   18159 non-null  float64\n",
      " 71  Stamina                   18159 non-null  float64\n",
      " 72  Strength                  18159 non-null  float64\n",
      " 73  LongShots                 18159 non-null  float64\n",
      " 74  Aggression                18159 non-null  float64\n",
      " 75  Interceptions             18159 non-null  float64\n",
      " 76  Positioning               18159 non-null  float64\n",
      " 77  Vision                    18159 non-null  float64\n",
      " 78  Penalties                 18159 non-null  float64\n",
      " 79  Composure                 18159 non-null  float64\n",
      " 80  Marking                   18159 non-null  float64\n",
      " 81  StandingTackle            18159 non-null  float64\n",
      " 82  SlidingTackle             18159 non-null  float64\n",
      " 83  GKDiving                  18159 non-null  float64\n",
      " 84  GKHandling                18159 non-null  float64\n",
      " 85  GKKicking                 18159 non-null  float64\n",
      " 86  GKPositioning             18159 non-null  float64\n",
      " 87  GKReflexes                18159 non-null  float64\n",
      " 88  Release Clause            16643 non-null  object \n",
      "dtypes: float64(38), int64(6), object(45)\n",
      "memory usage: 12.4+ MB\n"
     ]
    }
   ],
   "source": [
    "df.info()"
   ]
  },
  {
   "cell_type": "markdown",
   "id": "eab4640d-1e1e-46b8-9a3f-cb6d27a53253",
   "metadata": {},
   "source": [
    "## 1. Country having the most number of players"
   ]
  },
  {
   "cell_type": "code",
   "execution_count": 16,
   "id": "a6810d63-577c-4b0d-9a30-96928521a065",
   "metadata": {},
   "outputs": [
    {
     "data": {
      "text/plain": [
       "Nationality\n",
       "England      1662\n",
       "Germany      1198\n",
       "Spain        1072\n",
       "Argentina     937\n",
       "France        914\n",
       "Name: count, dtype: int64"
      ]
     },
     "execution_count": 16,
     "metadata": {},
     "output_type": "execute_result"
    }
   ],
   "source": [
    "df.Nationality.value_counts().head()"
   ]
  },
  {
   "cell_type": "markdown",
   "id": "3b09915f-9798-4812-9e26-dbbf945281d0",
   "metadata": {},
   "source": [
    "England is the company having the most number of players which is 1662 players"
   ]
  },
  {
   "cell_type": "code",
   "execution_count": null,
   "id": "adf17e56-1856-4dba-8b8c-ecf182d9f1b7",
   "metadata": {},
   "outputs": [],
   "source": []
  },
  {
   "cell_type": "code",
   "execution_count": null,
   "id": "86dbbc0a-5eb6-4c64-8ca1-96531caa54ce",
   "metadata": {},
   "outputs": [],
   "source": []
  },
  {
   "cell_type": "markdown",
   "id": "bc4bbeaf-da2b-476e-8ef4-f8b0dbcf5763",
   "metadata": {},
   "source": [
    "## 2. Top 5 countries with the most no. of players"
   ]
  },
  {
   "cell_type": "code",
   "execution_count": 214,
   "id": "01ffda0a-e137-426b-8ae7-a74d21fa4468",
   "metadata": {},
   "outputs": [],
   "source": [
    "data = df.Nationality.value_counts().head(5)"
   ]
  },
  {
   "cell_type": "code",
   "execution_count": 215,
   "id": "0ab18d14-4cec-4753-b6e9-6b9830e04298",
   "metadata": {},
   "outputs": [
    {
     "data": {
      "text/plain": [
       "Nationality\n",
       "England      1662\n",
       "Germany      1198\n",
       "Spain        1072\n",
       "Argentina     937\n",
       "France        914\n",
       "Name: count, dtype: int64"
      ]
     },
     "execution_count": 215,
     "metadata": {},
     "output_type": "execute_result"
    }
   ],
   "source": [
    "data"
   ]
  },
  {
   "cell_type": "code",
   "execution_count": 220,
   "id": "19ebcbae-5a8f-46ec-aa34-d1b740821214",
   "metadata": {},
   "outputs": [
    {
     "data": {
      "image/png": "[encoded data removed]",
      "text/plain": [
       "<Figure size 640x480 with 1 Axes>"
      ]
     },
     "metadata": {},
     "output_type": "display_data"
    }
   ],
   "source": [
    "plt.bar(data.index,data.values,color='green',width=0.5)\n",
    "fonts = {\"family\":\"monospace\", \"color\":\"red\", \"size\":15}\n",
    "plt.xlabel('Countries', fontdict=fonts)\n",
    "plt.ylabel('No. of Players', fontdict=fonts)\n",
    "plt.title('Top 5 Countries by No. of players', fontdict=fonts)\n",
    "plt.show()"
   ]
  },
  {
   "cell_type": "markdown",
   "id": "83cbcf47-bd7c-426d-81aa-f0bd6950a54a",
   "metadata": {},
   "source": [
    "England, Germany, Spain, Argentina and France are the top 5 countries with most no. of players"
   ]
  },
  {
   "cell_type": "code",
   "execution_count": null,
   "id": "3b019313-dc34-4e99-a128-1114ddd48b0d",
   "metadata": {},
   "outputs": [],
   "source": []
  },
  {
   "cell_type": "code",
   "execution_count": null,
   "id": "d75bc437-9eeb-43b5-a5dd-ed79779c77fa",
   "metadata": {},
   "outputs": [],
   "source": []
  },
  {
   "cell_type": "markdown",
   "id": "a2d8ffee-14d6-4367-ac8b-3aee0e39ac3d",
   "metadata": {},
   "source": [
    "## 3. Player having highest salary"
   ]
  },
  {
   "cell_type": "code",
   "execution_count": 183,
   "id": "cdf29428-3511-4480-b23a-417ebe52d2e6",
   "metadata": {},
   "outputs": [
    {
     "data": {
      "text/html": [
       "<div>\n",
       "<style scoped>\n",
       "    .dataframe tbody tr th:only-of-type {\n",
       "        vertical-align: middle;\n",
       "    }\n",
       "\n",
       "    .dataframe tbody tr th {\n",
       "        vertical-align: top;\n",
       "    }\n",
       "\n",
       "    .dataframe thead th {\n",
       "        text-align: right;\n",
       "    }\n",
       "</style>\n",
       "<table border=\"1\" class=\"dataframe\">\n",
       "  <thead>\n",
       "    <tr style=\"text-align: right;\">\n",
       "      <th></th>\n",
       "      <th>Name</th>\n",
       "      <th>Wage</th>\n",
       "    </tr>\n",
       "  </thead>\n",
       "  <tbody>\n",
       "    <tr>\n",
       "      <th>0</th>\n",
       "      <td>L. Messi</td>\n",
       "      <td>€565K</td>\n",
       "    </tr>\n",
       "    <tr>\n",
       "      <th>7</th>\n",
       "      <td>L. Suárez</td>\n",
       "      <td>€455K</td>\n",
       "    </tr>\n",
       "    <tr>\n",
       "      <th>6</th>\n",
       "      <td>L. Modrić</td>\n",
       "      <td>€420K</td>\n",
       "    </tr>\n",
       "    <tr>\n",
       "      <th>1</th>\n",
       "      <td>Cristiano Ronaldo</td>\n",
       "      <td>€405K</td>\n",
       "    </tr>\n",
       "    <tr>\n",
       "      <th>8</th>\n",
       "      <td>Sergio Ramos</td>\n",
       "      <td>€380K</td>\n",
       "    </tr>\n",
       "  </tbody>\n",
       "</table>\n",
       "</div>"
      ],
      "text/plain": [
       "                Name   Wage\n",
       "0           L. Messi  €565K\n",
       "7          L. Suárez  €455K\n",
       "6          L. Modrić  €420K\n",
       "1  Cristiano Ronaldo  €405K\n",
       "8       Sergio Ramos  €380K"
      ]
     },
     "execution_count": 183,
     "metadata": {},
     "output_type": "execute_result"
    }
   ],
   "source": [
    "Salary=[]\n",
    "for i in df.Wage :\n",
    "    val = i[1:-1]+'000'\n",
    "    Salary.append(int(val))\n",
    "df['Salary'] = Salary\n",
    "\n",
    "df.nlargest(5, ['Salary'])[['Name','Wage']]"
   ]
  },
  {
   "cell_type": "markdown",
   "id": "d839f7a1-5809-49cf-b1e1-c89c652c5350",
   "metadata": {},
   "source": [
    "Lionel Messi is the player having highest salary"
   ]
  },
  {
   "cell_type": "code",
   "execution_count": null,
   "id": "2697f03d-8ddf-4b8e-b886-4eeca4262358",
   "metadata": {},
   "outputs": [],
   "source": []
  },
  {
   "cell_type": "code",
   "execution_count": null,
   "id": "98bfd876-a103-47ce-9e4c-e779592f572c",
   "metadata": {},
   "outputs": [],
   "source": []
  },
  {
   "cell_type": "markdown",
   "id": "fb0bec14-c913-4ec5-a1aa-2fb3bab1462f",
   "metadata": {},
   "source": [
    "## 4. Histogram of Salary range of Players"
   ]
  },
  {
   "cell_type": "code",
   "execution_count": 221,
   "id": "9f1eba0a-2eac-476c-bd4c-f3d767ef034c",
   "metadata": {},
   "outputs": [],
   "source": [
    "data = df[\"Salary\"]"
   ]
  },
  {
   "cell_type": "code",
   "execution_count": 222,
   "id": "0bd2f89a-cb48-4ba4-b1c7-b89111d984f6",
   "metadata": {},
   "outputs": [
    {
     "data": {
      "text/plain": [
       "0        565000\n",
       "1        405000\n",
       "2        290000\n",
       "3        260000\n",
       "4        355000\n",
       "          ...  \n",
       "18202      1000\n",
       "18203      1000\n",
       "18204      1000\n",
       "18205      1000\n",
       "18206      1000\n",
       "Name: Salary, Length: 18207, dtype: int64"
      ]
     },
     "execution_count": 222,
     "metadata": {},
     "output_type": "execute_result"
    }
   ],
   "source": [
    "data"
   ]
  },
  {
   "cell_type": "code",
   "execution_count": 234,
   "id": "b4b642a6-bdc3-4739-90ef-5c03796a3ae8",
   "metadata": {},
   "outputs": [
    {
     "data": {
      "image/png": "[encoded data removed]",
      "text/plain": [
       "<Figure size 640x480 with 1 Axes>"
      ]
     },
     "metadata": {},
     "output_type": "display_data"
    }
   ],
   "source": [
    "plt.hist(data, edgecolor='k', color='b')\n",
    "plt.xlabel(\"Salary\")\n",
    "plt.ylabel(\"No. of Players\")\n",
    "plt.xticks([0,50000,100000,150000,200000])\n",
    "# plt.figure(figsize=(8,5), dpi=100)\n",
    "plt.title('Distribution of players by salary')\n",
    "plt.show()"
   ]
  },
  {
   "cell_type": "markdown",
   "id": "47499e46-0e5d-48ef-a0fc-1e3415271b9d",
   "metadata": {},
   "source": [
    "Most of the players are having a salary range upto 50000 and very least no. of players are having salary above 100000"
   ]
  },
  {
   "cell_type": "code",
   "execution_count": null,
   "id": "b01ae4fc-a9de-44c9-8187-aac9e19122e8",
   "metadata": {},
   "outputs": [],
   "source": []
  },
  {
   "cell_type": "code",
   "execution_count": null,
   "id": "b1e80c3c-19bc-4bee-aa15-c58d92cff1ee",
   "metadata": {},
   "outputs": [],
   "source": []
  },
  {
   "cell_type": "markdown",
   "id": "a1dee32a-efe3-47e4-9d22-e244f6754dbe",
   "metadata": {},
   "source": [
    "## 5. Tallest Player in FIFA"
   ]
  },
  {
   "cell_type": "code",
   "execution_count": 211,
   "id": "67925d49-fcbc-40db-bb58-f59edc28caf1",
   "metadata": {},
   "outputs": [
    {
     "data": {
      "text/html": [
       "<div>\n",
       "<style scoped>\n",
       "    .dataframe tbody tr th:only-of-type {\n",
       "        vertical-align: middle;\n",
       "    }\n",
       "\n",
       "    .dataframe tbody tr th {\n",
       "        vertical-align: top;\n",
       "    }\n",
       "\n",
       "    .dataframe thead th {\n",
       "        text-align: right;\n",
       "    }\n",
       "</style>\n",
       "<table border=\"1\" class=\"dataframe\">\n",
       "  <thead>\n",
       "    <tr style=\"text-align: right;\">\n",
       "      <th></th>\n",
       "      <th>Name</th>\n",
       "      <th>Height</th>\n",
       "    </tr>\n",
       "  </thead>\n",
       "  <tbody>\n",
       "    <tr>\n",
       "      <th>11614</th>\n",
       "      <td>T. Holý</td>\n",
       "      <td>6'9</td>\n",
       "    </tr>\n",
       "    <tr>\n",
       "      <th>17927</th>\n",
       "      <td>D. Hodzic</td>\n",
       "      <td>6'9</td>\n",
       "    </tr>\n",
       "    <tr>\n",
       "      <th>11903</th>\n",
       "      <td>K. Scherpen</td>\n",
       "      <td>6'8</td>\n",
       "    </tr>\n",
       "    <tr>\n",
       "      <th>17694</th>\n",
       "      <td>M. Casey</td>\n",
       "      <td>6'8</td>\n",
       "    </tr>\n",
       "    <tr>\n",
       "      <th>4189</th>\n",
       "      <td>V. Milinković-Savić</td>\n",
       "      <td>6'8</td>\n",
       "    </tr>\n",
       "    <tr>\n",
       "      <th>11403</th>\n",
       "      <td>A. Noppert</td>\n",
       "      <td>6'8</td>\n",
       "    </tr>\n",
       "    <tr>\n",
       "      <th>9559</th>\n",
       "      <td>A. Vukotić</td>\n",
       "      <td>6'8</td>\n",
       "    </tr>\n",
       "    <tr>\n",
       "      <th>4281</th>\n",
       "      <td>C. Pantilimon</td>\n",
       "      <td>6'8</td>\n",
       "    </tr>\n",
       "    <tr>\n",
       "      <th>14542</th>\n",
       "      <td>M. Qvist</td>\n",
       "      <td>6'8</td>\n",
       "    </tr>\n",
       "    <tr>\n",
       "      <th>12494</th>\n",
       "      <td>A. Chapman</td>\n",
       "      <td>6'8</td>\n",
       "    </tr>\n",
       "    <tr>\n",
       "      <th>17920</th>\n",
       "      <td>D. Thiam</td>\n",
       "      <td>6'8</td>\n",
       "    </tr>\n",
       "    <tr>\n",
       "      <th>16923</th>\n",
       "      <td>S. Brolin</td>\n",
       "      <td>6'8</td>\n",
       "    </tr>\n",
       "    <tr>\n",
       "      <th>7762</th>\n",
       "      <td>A. Ba</td>\n",
       "      <td>6'7</td>\n",
       "    </tr>\n",
       "    <tr>\n",
       "      <th>5491</th>\n",
       "      <td>H. Veerman</td>\n",
       "      <td>6'7</td>\n",
       "    </tr>\n",
       "    <tr>\n",
       "      <th>6985</th>\n",
       "      <td>S. Makienok</td>\n",
       "      <td>6'7</td>\n",
       "    </tr>\n",
       "    <tr>\n",
       "      <th>1204</th>\n",
       "      <td>L. Kalinić</td>\n",
       "      <td>6'7</td>\n",
       "    </tr>\n",
       "    <tr>\n",
       "      <th>4453</th>\n",
       "      <td>P. Onuachu</td>\n",
       "      <td>6'7</td>\n",
       "    </tr>\n",
       "    <tr>\n",
       "      <th>14870</th>\n",
       "      <td>J. Karlstrøm</td>\n",
       "      <td>6'7</td>\n",
       "    </tr>\n",
       "    <tr>\n",
       "      <th>8419</th>\n",
       "      <td>A. Coșelev</td>\n",
       "      <td>6'7</td>\n",
       "    </tr>\n",
       "    <tr>\n",
       "      <th>11418</th>\n",
       "      <td>E. Johansen</td>\n",
       "      <td>6'7</td>\n",
       "    </tr>\n",
       "    <tr>\n",
       "      <th>16694</th>\n",
       "      <td>O. O'Dwyer</td>\n",
       "      <td>6'7</td>\n",
       "    </tr>\n",
       "    <tr>\n",
       "      <th>14894</th>\n",
       "      <td>K. Athiu</td>\n",
       "      <td>6'7</td>\n",
       "    </tr>\n",
       "    <tr>\n",
       "      <th>17056</th>\n",
       "      <td>M. Kristensen</td>\n",
       "      <td>6'7</td>\n",
       "    </tr>\n",
       "    <tr>\n",
       "      <th>17443</th>\n",
       "      <td>R. Källman</td>\n",
       "      <td>6'7</td>\n",
       "    </tr>\n",
       "    <tr>\n",
       "      <th>13990</th>\n",
       "      <td>H. Souttar</td>\n",
       "      <td>6'7</td>\n",
       "    </tr>\n",
       "    <tr>\n",
       "      <th>14111</th>\n",
       "      <td>T. Chorý</td>\n",
       "      <td>6'7</td>\n",
       "    </tr>\n",
       "    <tr>\n",
       "      <th>463</th>\n",
       "      <td>N. Pope</td>\n",
       "      <td>6'7</td>\n",
       "    </tr>\n",
       "    <tr>\n",
       "      <th>15374</th>\n",
       "      <td>K. Sidibé</td>\n",
       "      <td>6'7</td>\n",
       "    </tr>\n",
       "    <tr>\n",
       "      <th>3390</th>\n",
       "      <td>P. Crouch</td>\n",
       "      <td>6'7</td>\n",
       "    </tr>\n",
       "    <tr>\n",
       "      <th>3466</th>\n",
       "      <td>K. Letica</td>\n",
       "      <td>6'7</td>\n",
       "    </tr>\n",
       "  </tbody>\n",
       "</table>\n",
       "</div>"
      ],
      "text/plain": [
       "                      Name Height\n",
       "11614              T. Holý    6'9\n",
       "17927            D. Hodzic    6'9\n",
       "11903          K. Scherpen    6'8\n",
       "17694             M. Casey    6'8\n",
       "4189   V. Milinković-Savić    6'8\n",
       "11403           A. Noppert    6'8\n",
       "9559            A. Vukotić    6'8\n",
       "4281         C. Pantilimon    6'8\n",
       "14542             M. Qvist    6'8\n",
       "12494           A. Chapman    6'8\n",
       "17920             D. Thiam    6'8\n",
       "16923            S. Brolin    6'8\n",
       "7762                 A. Ba    6'7\n",
       "5491            H. Veerman    6'7\n",
       "6985           S. Makienok    6'7\n",
       "1204            L. Kalinić    6'7\n",
       "4453            P. Onuachu    6'7\n",
       "14870         J. Karlstrøm    6'7\n",
       "8419            A. Coșelev    6'7\n",
       "11418          E. Johansen    6'7\n",
       "16694           O. O'Dwyer    6'7\n",
       "14894             K. Athiu    6'7\n",
       "17056        M. Kristensen    6'7\n",
       "17443           R. Källman    6'7\n",
       "13990           H. Souttar    6'7\n",
       "14111             T. Chorý    6'7\n",
       "463                N. Pope    6'7\n",
       "15374            K. Sidibé    6'7\n",
       "3390             P. Crouch    6'7\n",
       "3466             K. Letica    6'7"
      ]
     },
     "execution_count": 211,
     "metadata": {},
     "output_type": "execute_result"
    }
   ],
   "source": [
    "df.sort_values(by='Height', ascending=False)[['Name','Height']].head(3s0)"
   ]
  },
  {
   "cell_type": "markdown",
   "id": "1b830815-1341-44f5-8b63-503bba227c28",
   "metadata": {},
   "source": [
    "T. Holy and D. Hodzic are the tallest players"
   ]
  },
  {
   "cell_type": "code",
   "execution_count": null,
   "id": "788bccaa-5056-450a-8b02-6fa9958463e7",
   "metadata": {},
   "outputs": [],
   "source": []
  },
  {
   "cell_type": "code",
   "execution_count": null,
   "id": "8c4de5fc-08df-4cd4-bfc2-b3df7aa96628",
   "metadata": {},
   "outputs": [],
   "source": []
  },
  {
   "cell_type": "markdown",
   "id": "f7a40edc-28a4-4801-9db5-70904096f0c6",
   "metadata": {},
   "source": [
    "## 6. Club having most number of players"
   ]
  },
  {
   "cell_type": "code",
   "execution_count": 44,
   "id": "11d2c8a8-3482-4638-b397-cd1baa483ab4",
   "metadata": {},
   "outputs": [
    {
     "data": {
      "text/plain": [
       "Club\n",
       "FC Barcelona               33\n",
       "Valencia CF                33\n",
       "Fortuna Düsseldorf         33\n",
       "Cardiff City               33\n",
       "Rayo Vallecano             33\n",
       "CD Leganés                 33\n",
       "Frosinone                  33\n",
       "Newcastle United           33\n",
       "Southampton                33\n",
       "Burnley                    33\n",
       "Eintracht Frankfurt        33\n",
       "Wolverhampton Wanderers    33\n",
       "TSG 1899 Hoffenheim        33\n",
       "Everton                    33\n",
       "AS Monaco                  33\n",
       "RC Celta                   33\n",
       "Empoli                     33\n",
       "Manchester City            33\n",
       "Manchester United          33\n",
       "Borussia Dortmund          33\n",
       "Real Madrid                33\n",
       "Atlético Madrid            33\n",
       "Tottenham Hotspur          33\n",
       "Chelsea                    33\n",
       "Liverpool                  33\n",
       "Arsenal                    33\n",
       "Levante UD                 32\n",
       "VfL Wolfsburg              32\n",
       "FC Nantes                  32\n",
       "Fulham                     32\n",
       "Name: count, dtype: int64"
      ]
     },
     "execution_count": 44,
     "metadata": {},
     "output_type": "execute_result"
    }
   ],
   "source": [
    "df.Club.value_counts().head(30)"
   ]
  },
  {
   "cell_type": "markdown",
   "id": "026a0c37-b997-47c8-9337-882d9a8621a7",
   "metadata": {},
   "source": [
    " 26 Clubs from FC Barcelona to Arsenal in the above list have max no. of players which is 33"
   ]
  },
  {
   "cell_type": "code",
   "execution_count": null,
   "id": "0461c172-8a9e-47e9-b20d-750fac0eb72a",
   "metadata": {},
   "outputs": [],
   "source": []
  },
  {
   "cell_type": "code",
   "execution_count": null,
   "id": "0a0a2b42-270a-4161-9414-556f0314a860",
   "metadata": {},
   "outputs": [],
   "source": []
  },
  {
   "cell_type": "markdown",
   "id": "7a3d1785-b3ea-44e5-9e12-28db5088dae0",
   "metadata": {},
   "source": [
    "## 7. Bar Chart of prefered Foot"
   ]
  },
  {
   "cell_type": "code",
   "execution_count": 152,
   "id": "688bbde9-1f36-42a1-b0fd-7394f4088886",
   "metadata": {},
   "outputs": [
    {
     "data": {
      "text/plain": [
       "Preferred Foot\n",
       "Right    13948\n",
       "Left      4211\n",
       "Name: count, dtype: int64"
      ]
     },
     "execution_count": 152,
     "metadata": {},
     "output_type": "execute_result"
    }
   ],
   "source": [
    "df['Preferred Foot'].value_counts()"
   ]
  },
  {
   "cell_type": "markdown",
   "id": "aaf59bfe-099c-4f6a-b644-3c47b5c2e642",
   "metadata": {},
   "source": [
    "Right Foot is prefered by most players"
   ]
  },
  {
   "cell_type": "code",
   "execution_count": 241,
   "id": "7b1c6598-3aaf-45cf-aa36-ca8066c6f4b7",
   "metadata": {},
   "outputs": [
    {
     "data": {
      "image/png": "[encoded data removed]",
      "text/plain": [
       "<Figure size 640x480 with 1 Axes>"
      ]
     },
     "metadata": {},
     "output_type": "display_data"
    }
   ],
   "source": [
    "x = df['Preferred Foot'].value_counts().index\n",
    "y = df['Preferred Foot'].value_counts().values\n",
    "plt.bar(x,y)\n",
    "fonts = {\"family\":\"monospace\", \"color\":\"b\", \"size\":15}\n",
    "plt.title(\"Prefered Foot by No. of Players\", fontdict=fonts)\n",
    "plt.xlabel(\"Prefered Foot\", fontdict=fonts)\n",
    "plt.ylabel(\"No. of Players\", fontdict=fonts)\n",
    "plt.grid(axis='y')\n",
    "plt.show()"
   ]
  },
  {
   "cell_type": "markdown",
   "id": "85216357-c6f5-42f4-8c52-f0d05355f094",
   "metadata": {},
   "source": [
    "13948 players prefer right foot and 4211 players prefer left foot. ie, most players prefer right foot"
   ]
  },
  {
   "cell_type": "code",
   "execution_count": null,
   "id": "dacfc492-00bf-4412-a1ec-ec347fad5b5c",
   "metadata": {},
   "outputs": [],
   "source": []
  }
 ],
 "metadata": {
  "kernelspec": {
   "display_name": "Python 3 (ipykernel)",
   "language": "python",
   "name": "python3"
  },
  "language_info": {
   "codemirror_mode": {
    "name": "ipython",
    "version": 3
   },
   "file_extension": ".py",
   "mimetype": "text/x-python",
   "name": "python",
   "nbconvert_exporter": "python",
   "pygments_lexer": "ipython3",
   "version": "3.11.7"
  }
 },
 "nbformat": 4,
 "nbformat_minor": 5
}
